{
 "cells": [
  {
   "cell_type": "markdown",
   "metadata": {},
   "source": [
    "First model implemented using SVM model"
   ]
  },
  {
   "cell_type": "code",
   "execution_count": 1,
   "metadata": {},
   "outputs": [
    {
     "name": "stderr",
     "output_type": "stream",
     "text": [
      "Intel(R) Extension for Scikit-learn* enabled (https://github.com/intel/scikit-learn-intelex)\n"
     ]
    }
   ],
   "source": [
    "from sklearnex.svm import SVC\n",
    "from sklearnex import patch_sklearn\n",
    "patch_sklearn()"
   ]
  },
  {
   "cell_type": "code",
   "execution_count": 2,
   "metadata": {},
   "outputs": [],
   "source": [
    "import pandas as pd\n",
    "import numpy as np\n",
    "import seaborn as sns\n",
    "from sklearn import svm\n",
    "from sklearn.metrics import confusion_matrix,classification_report,accuracy_score\n",
    "from sklearn.preprocessing import StandardScaler\n",
    "from sklearn.model_selection import train_test_split"
   ]
  },
  {
   "cell_type": "code",
   "execution_count": 3,
   "metadata": {},
   "outputs": [],
   "source": [
    "data=pd.read_csv(r'Hotel Reservations.csv')"
   ]
  },
  {
   "cell_type": "code",
   "execution_count": 4,
   "metadata": {},
   "outputs": [
    {
     "data": {
      "text/html": [
       "<div>\n",
       "<style scoped>\n",
       "    .dataframe tbody tr th:only-of-type {\n",
       "        vertical-align: middle;\n",
       "    }\n",
       "\n",
       "    .dataframe tbody tr th {\n",
       "        vertical-align: top;\n",
       "    }\n",
       "\n",
       "    .dataframe thead th {\n",
       "        text-align: right;\n",
       "    }\n",
       "</style>\n",
       "<table border=\"1\" class=\"dataframe\">\n",
       "  <thead>\n",
       "    <tr style=\"text-align: right;\">\n",
       "      <th></th>\n",
       "      <th>Booking_ID</th>\n",
       "      <th>no_of_adults</th>\n",
       "      <th>no_of_children</th>\n",
       "      <th>no_of_weekend_nights</th>\n",
       "      <th>no_of_week_nights</th>\n",
       "      <th>type_of_meal_plan</th>\n",
       "      <th>required_car_parking_space</th>\n",
       "      <th>room_type_reserved</th>\n",
       "      <th>lead_time</th>\n",
       "      <th>arrival_year</th>\n",
       "      <th>arrival_month</th>\n",
       "      <th>arrival_date</th>\n",
       "      <th>customer_type</th>\n",
       "      <th>repeated_guest</th>\n",
       "      <th>no_of_previous_cancellations</th>\n",
       "      <th>no_of_previous_bookings_not_canceled</th>\n",
       "      <th>avg_price_per_room</th>\n",
       "      <th>no_of_special_requests</th>\n",
       "      <th>booking_status</th>\n",
       "    </tr>\n",
       "  </thead>\n",
       "  <tbody>\n",
       "    <tr>\n",
       "      <th>0</th>\n",
       "      <td>INN00001</td>\n",
       "      <td>2</td>\n",
       "      <td>0</td>\n",
       "      <td>1</td>\n",
       "      <td>2</td>\n",
       "      <td>Meal Plan 1</td>\n",
       "      <td>0</td>\n",
       "      <td>Room_Type 1</td>\n",
       "      <td>224</td>\n",
       "      <td>2017</td>\n",
       "      <td>10</td>\n",
       "      <td>2</td>\n",
       "      <td>Contract</td>\n",
       "      <td>0</td>\n",
       "      <td>0</td>\n",
       "      <td>0</td>\n",
       "      <td>65.00</td>\n",
       "      <td>0</td>\n",
       "      <td>Not_Canceled</td>\n",
       "    </tr>\n",
       "    <tr>\n",
       "      <th>1</th>\n",
       "      <td>INN00002</td>\n",
       "      <td>2</td>\n",
       "      <td>0</td>\n",
       "      <td>2</td>\n",
       "      <td>3</td>\n",
       "      <td>Not Selected</td>\n",
       "      <td>0</td>\n",
       "      <td>Room_Type 1</td>\n",
       "      <td>5</td>\n",
       "      <td>2018</td>\n",
       "      <td>11</td>\n",
       "      <td>6</td>\n",
       "      <td>Transient</td>\n",
       "      <td>0</td>\n",
       "      <td>0</td>\n",
       "      <td>0</td>\n",
       "      <td>106.68</td>\n",
       "      <td>1</td>\n",
       "      <td>Not_Canceled</td>\n",
       "    </tr>\n",
       "    <tr>\n",
       "      <th>2</th>\n",
       "      <td>INN00003</td>\n",
       "      <td>1</td>\n",
       "      <td>0</td>\n",
       "      <td>2</td>\n",
       "      <td>1</td>\n",
       "      <td>Meal Plan 1</td>\n",
       "      <td>0</td>\n",
       "      <td>Room_Type 1</td>\n",
       "      <td>1</td>\n",
       "      <td>2018</td>\n",
       "      <td>2</td>\n",
       "      <td>28</td>\n",
       "      <td>Transient</td>\n",
       "      <td>0</td>\n",
       "      <td>0</td>\n",
       "      <td>0</td>\n",
       "      <td>60.00</td>\n",
       "      <td>0</td>\n",
       "      <td>Canceled</td>\n",
       "    </tr>\n",
       "    <tr>\n",
       "      <th>3</th>\n",
       "      <td>INN00004</td>\n",
       "      <td>2</td>\n",
       "      <td>0</td>\n",
       "      <td>0</td>\n",
       "      <td>2</td>\n",
       "      <td>Meal Plan 1</td>\n",
       "      <td>0</td>\n",
       "      <td>Room_Type 1</td>\n",
       "      <td>211</td>\n",
       "      <td>2018</td>\n",
       "      <td>5</td>\n",
       "      <td>20</td>\n",
       "      <td>Transient</td>\n",
       "      <td>0</td>\n",
       "      <td>0</td>\n",
       "      <td>0</td>\n",
       "      <td>100.00</td>\n",
       "      <td>0</td>\n",
       "      <td>Canceled</td>\n",
       "    </tr>\n",
       "    <tr>\n",
       "      <th>4</th>\n",
       "      <td>INN00005</td>\n",
       "      <td>2</td>\n",
       "      <td>0</td>\n",
       "      <td>1</td>\n",
       "      <td>1</td>\n",
       "      <td>Not Selected</td>\n",
       "      <td>0</td>\n",
       "      <td>Room_Type 1</td>\n",
       "      <td>48</td>\n",
       "      <td>2018</td>\n",
       "      <td>4</td>\n",
       "      <td>11</td>\n",
       "      <td>Transient</td>\n",
       "      <td>0</td>\n",
       "      <td>0</td>\n",
       "      <td>0</td>\n",
       "      <td>94.50</td>\n",
       "      <td>0</td>\n",
       "      <td>Canceled</td>\n",
       "    </tr>\n",
       "  </tbody>\n",
       "</table>\n",
       "</div>"
      ],
      "text/plain": [
       "  Booking_ID  no_of_adults  no_of_children  no_of_weekend_nights  \\\n",
       "0   INN00001             2               0                     1   \n",
       "1   INN00002             2               0                     2   \n",
       "2   INN00003             1               0                     2   \n",
       "3   INN00004             2               0                     0   \n",
       "4   INN00005             2               0                     1   \n",
       "\n",
       "   no_of_week_nights type_of_meal_plan  required_car_parking_space  \\\n",
       "0                  2       Meal Plan 1                           0   \n",
       "1                  3      Not Selected                           0   \n",
       "2                  1       Meal Plan 1                           0   \n",
       "3                  2       Meal Plan 1                           0   \n",
       "4                  1      Not Selected                           0   \n",
       "\n",
       "  room_type_reserved  lead_time  arrival_year  arrival_month  arrival_date  \\\n",
       "0        Room_Type 1        224          2017             10             2   \n",
       "1        Room_Type 1          5          2018             11             6   \n",
       "2        Room_Type 1          1          2018              2            28   \n",
       "3        Room_Type 1        211          2018              5            20   \n",
       "4        Room_Type 1         48          2018              4            11   \n",
       "\n",
       "  customer_type  repeated_guest  no_of_previous_cancellations  \\\n",
       "0      Contract               0                             0   \n",
       "1     Transient               0                             0   \n",
       "2     Transient               0                             0   \n",
       "3     Transient               0                             0   \n",
       "4     Transient               0                             0   \n",
       "\n",
       "   no_of_previous_bookings_not_canceled  avg_price_per_room  \\\n",
       "0                                     0               65.00   \n",
       "1                                     0              106.68   \n",
       "2                                     0               60.00   \n",
       "3                                     0              100.00   \n",
       "4                                     0               94.50   \n",
       "\n",
       "   no_of_special_requests booking_status  \n",
       "0                       0   Not_Canceled  \n",
       "1                       1   Not_Canceled  \n",
       "2                       0       Canceled  \n",
       "3                       0       Canceled  \n",
       "4                       0       Canceled  "
      ]
     },
     "execution_count": 4,
     "metadata": {},
     "output_type": "execute_result"
    }
   ],
   "source": [
    "data.head()"
   ]
  },
  {
   "cell_type": "code",
   "execution_count": 5,
   "metadata": {},
   "outputs": [
    {
     "data": {
      "text/html": [
       "<div>\n",
       "<style scoped>\n",
       "    .dataframe tbody tr th:only-of-type {\n",
       "        vertical-align: middle;\n",
       "    }\n",
       "\n",
       "    .dataframe tbody tr th {\n",
       "        vertical-align: top;\n",
       "    }\n",
       "\n",
       "    .dataframe thead th {\n",
       "        text-align: right;\n",
       "    }\n",
       "</style>\n",
       "<table border=\"1\" class=\"dataframe\">\n",
       "  <thead>\n",
       "    <tr style=\"text-align: right;\">\n",
       "      <th></th>\n",
       "      <th>Booking_ID</th>\n",
       "      <th>no_of_adults</th>\n",
       "      <th>no_of_children</th>\n",
       "      <th>no_of_weekend_nights</th>\n",
       "      <th>no_of_week_nights</th>\n",
       "      <th>type_of_meal_plan</th>\n",
       "      <th>required_car_parking_space</th>\n",
       "      <th>room_type_reserved</th>\n",
       "      <th>lead_time</th>\n",
       "      <th>arrival_year</th>\n",
       "      <th>arrival_month</th>\n",
       "      <th>arrival_date</th>\n",
       "      <th>customer_type</th>\n",
       "      <th>repeated_guest</th>\n",
       "      <th>no_of_previous_cancellations</th>\n",
       "      <th>no_of_previous_bookings_not_canceled</th>\n",
       "      <th>avg_price_per_room</th>\n",
       "      <th>no_of_special_requests</th>\n",
       "      <th>booking_status</th>\n",
       "    </tr>\n",
       "  </thead>\n",
       "  <tbody>\n",
       "    <tr>\n",
       "      <th>36270</th>\n",
       "      <td>INN36271</td>\n",
       "      <td>3</td>\n",
       "      <td>0</td>\n",
       "      <td>2</td>\n",
       "      <td>6</td>\n",
       "      <td>Meal Plan 1</td>\n",
       "      <td>0</td>\n",
       "      <td>Room_Type 4</td>\n",
       "      <td>85</td>\n",
       "      <td>2018</td>\n",
       "      <td>8</td>\n",
       "      <td>3</td>\n",
       "      <td>Transient</td>\n",
       "      <td>0</td>\n",
       "      <td>0</td>\n",
       "      <td>0</td>\n",
       "      <td>167.80</td>\n",
       "      <td>1</td>\n",
       "      <td>Not_Canceled</td>\n",
       "    </tr>\n",
       "    <tr>\n",
       "      <th>36271</th>\n",
       "      <td>INN36272</td>\n",
       "      <td>2</td>\n",
       "      <td>0</td>\n",
       "      <td>1</td>\n",
       "      <td>3</td>\n",
       "      <td>Meal Plan 1</td>\n",
       "      <td>0</td>\n",
       "      <td>Room_Type 1</td>\n",
       "      <td>228</td>\n",
       "      <td>2018</td>\n",
       "      <td>10</td>\n",
       "      <td>17</td>\n",
       "      <td>Transient</td>\n",
       "      <td>0</td>\n",
       "      <td>0</td>\n",
       "      <td>0</td>\n",
       "      <td>90.95</td>\n",
       "      <td>2</td>\n",
       "      <td>Canceled</td>\n",
       "    </tr>\n",
       "    <tr>\n",
       "      <th>36272</th>\n",
       "      <td>INN36273</td>\n",
       "      <td>2</td>\n",
       "      <td>0</td>\n",
       "      <td>2</td>\n",
       "      <td>6</td>\n",
       "      <td>Meal Plan 1</td>\n",
       "      <td>0</td>\n",
       "      <td>Room_Type 1</td>\n",
       "      <td>148</td>\n",
       "      <td>2018</td>\n",
       "      <td>7</td>\n",
       "      <td>1</td>\n",
       "      <td>Transient</td>\n",
       "      <td>0</td>\n",
       "      <td>0</td>\n",
       "      <td>0</td>\n",
       "      <td>98.39</td>\n",
       "      <td>2</td>\n",
       "      <td>Not_Canceled</td>\n",
       "    </tr>\n",
       "    <tr>\n",
       "      <th>36273</th>\n",
       "      <td>INN36274</td>\n",
       "      <td>2</td>\n",
       "      <td>0</td>\n",
       "      <td>0</td>\n",
       "      <td>3</td>\n",
       "      <td>Not Selected</td>\n",
       "      <td>0</td>\n",
       "      <td>Room_Type 1</td>\n",
       "      <td>63</td>\n",
       "      <td>2018</td>\n",
       "      <td>4</td>\n",
       "      <td>21</td>\n",
       "      <td>Transient</td>\n",
       "      <td>0</td>\n",
       "      <td>0</td>\n",
       "      <td>0</td>\n",
       "      <td>94.50</td>\n",
       "      <td>0</td>\n",
       "      <td>Canceled</td>\n",
       "    </tr>\n",
       "    <tr>\n",
       "      <th>36274</th>\n",
       "      <td>INN36275</td>\n",
       "      <td>2</td>\n",
       "      <td>0</td>\n",
       "      <td>1</td>\n",
       "      <td>2</td>\n",
       "      <td>Meal Plan 1</td>\n",
       "      <td>0</td>\n",
       "      <td>Room_Type 1</td>\n",
       "      <td>207</td>\n",
       "      <td>2018</td>\n",
       "      <td>12</td>\n",
       "      <td>30</td>\n",
       "      <td>Contract</td>\n",
       "      <td>0</td>\n",
       "      <td>0</td>\n",
       "      <td>0</td>\n",
       "      <td>161.67</td>\n",
       "      <td>0</td>\n",
       "      <td>Not_Canceled</td>\n",
       "    </tr>\n",
       "  </tbody>\n",
       "</table>\n",
       "</div>"
      ],
      "text/plain": [
       "      Booking_ID  no_of_adults  no_of_children  no_of_weekend_nights  \\\n",
       "36270   INN36271             3               0                     2   \n",
       "36271   INN36272             2               0                     1   \n",
       "36272   INN36273             2               0                     2   \n",
       "36273   INN36274             2               0                     0   \n",
       "36274   INN36275             2               0                     1   \n",
       "\n",
       "       no_of_week_nights type_of_meal_plan  required_car_parking_space  \\\n",
       "36270                  6       Meal Plan 1                           0   \n",
       "36271                  3       Meal Plan 1                           0   \n",
       "36272                  6       Meal Plan 1                           0   \n",
       "36273                  3      Not Selected                           0   \n",
       "36274                  2       Meal Plan 1                           0   \n",
       "\n",
       "      room_type_reserved  lead_time  arrival_year  arrival_month  \\\n",
       "36270        Room_Type 4         85          2018              8   \n",
       "36271        Room_Type 1        228          2018             10   \n",
       "36272        Room_Type 1        148          2018              7   \n",
       "36273        Room_Type 1         63          2018              4   \n",
       "36274        Room_Type 1        207          2018             12   \n",
       "\n",
       "       arrival_date customer_type  repeated_guest  \\\n",
       "36270             3     Transient               0   \n",
       "36271            17     Transient               0   \n",
       "36272             1     Transient               0   \n",
       "36273            21     Transient               0   \n",
       "36274            30      Contract               0   \n",
       "\n",
       "       no_of_previous_cancellations  no_of_previous_bookings_not_canceled  \\\n",
       "36270                             0                                     0   \n",
       "36271                             0                                     0   \n",
       "36272                             0                                     0   \n",
       "36273                             0                                     0   \n",
       "36274                             0                                     0   \n",
       "\n",
       "       avg_price_per_room  no_of_special_requests booking_status  \n",
       "36270              167.80                       1   Not_Canceled  \n",
       "36271               90.95                       2       Canceled  \n",
       "36272               98.39                       2   Not_Canceled  \n",
       "36273               94.50                       0       Canceled  \n",
       "36274              161.67                       0   Not_Canceled  "
      ]
     },
     "execution_count": 5,
     "metadata": {},
     "output_type": "execute_result"
    }
   ],
   "source": [
    "data.tail()"
   ]
  },
  {
   "cell_type": "code",
   "execution_count": 6,
   "metadata": {},
   "outputs": [
    {
     "data": {
      "text/plain": [
       "Booking_ID                              0\n",
       "no_of_adults                            0\n",
       "no_of_children                          0\n",
       "no_of_weekend_nights                    0\n",
       "no_of_week_nights                       0\n",
       "type_of_meal_plan                       0\n",
       "required_car_parking_space              0\n",
       "room_type_reserved                      0\n",
       "lead_time                               0\n",
       "arrival_year                            0\n",
       "arrival_month                           0\n",
       "arrival_date                            0\n",
       "customer_type                           0\n",
       "repeated_guest                          0\n",
       "no_of_previous_cancellations            0\n",
       "no_of_previous_bookings_not_canceled    0\n",
       "avg_price_per_room                      0\n",
       "no_of_special_requests                  0\n",
       "booking_status                          0\n",
       "dtype: int64"
      ]
     },
     "execution_count": 6,
     "metadata": {},
     "output_type": "execute_result"
    }
   ],
   "source": [
    "data.isnull().sum()"
   ]
  },
  {
   "cell_type": "markdown",
   "metadata": {},
   "source": [
    "data['country'].fillna(data['country'].value_counts().index[0],inplace=True)\n",
    "data['agent'].fillna(data['agent'].mean(),inplace=True)\n",
    "data['company'].fillna(data['company'].mean(),inplace=True)"
   ]
  },
  {
   "cell_type": "markdown",
   "metadata": {},
   "source": [
    "data.isnull().sum()"
   ]
  },
  {
   "cell_type": "code",
   "execution_count": 7,
   "metadata": {},
   "outputs": [
    {
     "data": {
      "text/plain": [
       "<AxesSubplot: xlabel='no_of_weekend_nights', ylabel='no_of_week_nights'>"
      ]
     },
     "execution_count": 7,
     "metadata": {},
     "output_type": "execute_result"
    },
    {
     "data": {
      "image/png": "[encoded data removed]",
      "text/plain": [
       "<Figure size 640x480 with 1 Axes>"
      ]
     },
     "metadata": {},
     "output_type": "display_data"
    }
   ],
   "source": [
    "sns.regplot(x=data['no_of_weekend_nights'],y=data['no_of_week_nights'])"
   ]
  },
  {
   "cell_type": "code",
   "execution_count": 8,
   "metadata": {},
   "outputs": [
    {
     "data": {
      "text/plain": [
       "<seaborn.axisgrid.FacetGrid at 0x7fd9fc8b27f0>"
      ]
     },
     "execution_count": 8,
     "metadata": {},
     "output_type": "execute_result"
    },
    {
     "data": {
      "image/png": "[encoded data removed]",
      "text/plain": [
       "<Figure size 654.125x500 with 1 Axes>"
      ]
     },
     "metadata": {},
     "output_type": "display_data"
    }
   ],
   "source": [
    "sns.lmplot(x='no_of_weekend_nights',y='no_of_week_nights',data=data,hue='customer_type')"
   ]
  },
  {
   "cell_type": "code",
   "execution_count": 9,
   "metadata": {},
   "outputs": [],
   "source": [
    "data1=data.select_dtypes(exclude=[object])"
   ]
  },
  {
   "cell_type": "code",
   "execution_count": 10,
   "metadata": {},
   "outputs": [
    {
     "data": {
      "text/html": [
       "<div>\n",
       "<style scoped>\n",
       "    .dataframe tbody tr th:only-of-type {\n",
       "        vertical-align: middle;\n",
       "    }\n",
       "\n",
       "    .dataframe tbody tr th {\n",
       "        vertical-align: top;\n",
       "    }\n",
       "\n",
       "    .dataframe thead th {\n",
       "        text-align: right;\n",
       "    }\n",
       "</style>\n",
       "<table border=\"1\" class=\"dataframe\">\n",
       "  <thead>\n",
       "    <tr style=\"text-align: right;\">\n",
       "      <th></th>\n",
       "      <th>no_of_adults</th>\n",
       "      <th>no_of_children</th>\n",
       "      <th>no_of_weekend_nights</th>\n",
       "      <th>no_of_week_nights</th>\n",
       "      <th>required_car_parking_space</th>\n",
       "      <th>lead_time</th>\n",
       "      <th>arrival_year</th>\n",
       "      <th>arrival_month</th>\n",
       "      <th>arrival_date</th>\n",
       "      <th>repeated_guest</th>\n",
       "      <th>no_of_previous_cancellations</th>\n",
       "      <th>no_of_previous_bookings_not_canceled</th>\n",
       "      <th>avg_price_per_room</th>\n",
       "      <th>no_of_special_requests</th>\n",
       "    </tr>\n",
       "  </thead>\n",
       "  <tbody>\n",
       "    <tr>\n",
       "      <th>no_of_adults</th>\n",
       "      <td>1.000000</td>\n",
       "      <td>-0.019787</td>\n",
       "      <td>0.103316</td>\n",
       "      <td>0.105622</td>\n",
       "      <td>0.011429</td>\n",
       "      <td>0.097287</td>\n",
       "      <td>0.076719</td>\n",
       "      <td>0.021841</td>\n",
       "      <td>0.026338</td>\n",
       "      <td>-0.192277</td>\n",
       "      <td>-0.047426</td>\n",
       "      <td>-0.119166</td>\n",
       "      <td>0.296886</td>\n",
       "      <td>0.189401</td>\n",
       "    </tr>\n",
       "    <tr>\n",
       "      <th>no_of_children</th>\n",
       "      <td>-0.019787</td>\n",
       "      <td>1.000000</td>\n",
       "      <td>0.029478</td>\n",
       "      <td>0.024398</td>\n",
       "      <td>0.034244</td>\n",
       "      <td>-0.047091</td>\n",
       "      <td>0.045983</td>\n",
       "      <td>-0.003076</td>\n",
       "      <td>0.025482</td>\n",
       "      <td>-0.036348</td>\n",
       "      <td>-0.016390</td>\n",
       "      <td>-0.021189</td>\n",
       "      <td>0.337728</td>\n",
       "      <td>0.124486</td>\n",
       "    </tr>\n",
       "    <tr>\n",
       "      <th>no_of_weekend_nights</th>\n",
       "      <td>0.103316</td>\n",
       "      <td>0.029478</td>\n",
       "      <td>1.000000</td>\n",
       "      <td>0.179577</td>\n",
       "      <td>-0.031111</td>\n",
       "      <td>0.046595</td>\n",
       "      <td>0.055357</td>\n",
       "      <td>-0.009894</td>\n",
       "      <td>0.027304</td>\n",
       "      <td>-0.067107</td>\n",
       "      <td>-0.020690</td>\n",
       "      <td>-0.026312</td>\n",
       "      <td>-0.004525</td>\n",
       "      <td>0.060593</td>\n",
       "    </tr>\n",
       "    <tr>\n",
       "      <th>no_of_week_nights</th>\n",
       "      <td>0.105622</td>\n",
       "      <td>0.024398</td>\n",
       "      <td>0.179577</td>\n",
       "      <td>1.000000</td>\n",
       "      <td>-0.048784</td>\n",
       "      <td>0.149650</td>\n",
       "      <td>0.032672</td>\n",
       "      <td>0.037376</td>\n",
       "      <td>-0.009305</td>\n",
       "      <td>-0.099764</td>\n",
       "      <td>-0.030080</td>\n",
       "      <td>-0.049344</td>\n",
       "      <td>0.022753</td>\n",
       "      <td>0.045994</td>\n",
       "    </tr>\n",
       "    <tr>\n",
       "      <th>required_car_parking_space</th>\n",
       "      <td>0.011429</td>\n",
       "      <td>0.034244</td>\n",
       "      <td>-0.031111</td>\n",
       "      <td>-0.048784</td>\n",
       "      <td>1.000000</td>\n",
       "      <td>-0.066445</td>\n",
       "      <td>0.015684</td>\n",
       "      <td>-0.015505</td>\n",
       "      <td>-0.000037</td>\n",
       "      <td>0.110909</td>\n",
       "      <td>0.027106</td>\n",
       "      <td>0.063810</td>\n",
       "      <td>0.061304</td>\n",
       "      <td>0.087922</td>\n",
       "    </tr>\n",
       "    <tr>\n",
       "      <th>lead_time</th>\n",
       "      <td>0.097287</td>\n",
       "      <td>-0.047091</td>\n",
       "      <td>0.046595</td>\n",
       "      <td>0.149650</td>\n",
       "      <td>-0.066445</td>\n",
       "      <td>1.000000</td>\n",
       "      <td>0.143439</td>\n",
       "      <td>0.136814</td>\n",
       "      <td>0.006479</td>\n",
       "      <td>-0.135984</td>\n",
       "      <td>-0.045723</td>\n",
       "      <td>-0.078137</td>\n",
       "      <td>-0.062596</td>\n",
       "      <td>-0.101645</td>\n",
       "    </tr>\n",
       "    <tr>\n",
       "      <th>arrival_year</th>\n",
       "      <td>0.076719</td>\n",
       "      <td>0.045983</td>\n",
       "      <td>0.055357</td>\n",
       "      <td>0.032672</td>\n",
       "      <td>0.015684</td>\n",
       "      <td>0.143439</td>\n",
       "      <td>1.000000</td>\n",
       "      <td>-0.339689</td>\n",
       "      <td>0.018849</td>\n",
       "      <td>-0.018175</td>\n",
       "      <td>0.003919</td>\n",
       "      <td>0.026422</td>\n",
       "      <td>0.178605</td>\n",
       "      <td>0.053205</td>\n",
       "    </tr>\n",
       "    <tr>\n",
       "      <th>arrival_month</th>\n",
       "      <td>0.021841</td>\n",
       "      <td>-0.003076</td>\n",
       "      <td>-0.009894</td>\n",
       "      <td>0.037376</td>\n",
       "      <td>-0.015505</td>\n",
       "      <td>0.136814</td>\n",
       "      <td>-0.339689</td>\n",
       "      <td>1.000000</td>\n",
       "      <td>-0.042780</td>\n",
       "      <td>0.000341</td>\n",
       "      <td>-0.038615</td>\n",
       "      <td>-0.010718</td>\n",
       "      <td>0.054423</td>\n",
       "      <td>0.110552</td>\n",
       "    </tr>\n",
       "    <tr>\n",
       "      <th>arrival_date</th>\n",
       "      <td>0.026338</td>\n",
       "      <td>0.025482</td>\n",
       "      <td>0.027304</td>\n",
       "      <td>-0.009305</td>\n",
       "      <td>-0.000037</td>\n",
       "      <td>0.006479</td>\n",
       "      <td>0.018849</td>\n",
       "      <td>-0.042780</td>\n",
       "      <td>1.000000</td>\n",
       "      <td>-0.015949</td>\n",
       "      <td>-0.012542</td>\n",
       "      <td>-0.001498</td>\n",
       "      <td>0.017898</td>\n",
       "      <td>0.018352</td>\n",
       "    </tr>\n",
       "    <tr>\n",
       "      <th>repeated_guest</th>\n",
       "      <td>-0.192277</td>\n",
       "      <td>-0.036348</td>\n",
       "      <td>-0.067107</td>\n",
       "      <td>-0.099764</td>\n",
       "      <td>0.110909</td>\n",
       "      <td>-0.135984</td>\n",
       "      <td>-0.018175</td>\n",
       "      <td>0.000341</td>\n",
       "      <td>-0.015949</td>\n",
       "      <td>1.000000</td>\n",
       "      <td>0.390810</td>\n",
       "      <td>0.539156</td>\n",
       "      <td>-0.174900</td>\n",
       "      <td>-0.011820</td>\n",
       "    </tr>\n",
       "    <tr>\n",
       "      <th>no_of_previous_cancellations</th>\n",
       "      <td>-0.047426</td>\n",
       "      <td>-0.016390</td>\n",
       "      <td>-0.020690</td>\n",
       "      <td>-0.030080</td>\n",
       "      <td>0.027106</td>\n",
       "      <td>-0.045723</td>\n",
       "      <td>0.003919</td>\n",
       "      <td>-0.038615</td>\n",
       "      <td>-0.012542</td>\n",
       "      <td>0.390810</td>\n",
       "      <td>1.000000</td>\n",
       "      <td>0.468147</td>\n",
       "      <td>-0.063340</td>\n",
       "      <td>-0.003317</td>\n",
       "    </tr>\n",
       "    <tr>\n",
       "      <th>no_of_previous_bookings_not_canceled</th>\n",
       "      <td>-0.119166</td>\n",
       "      <td>-0.021189</td>\n",
       "      <td>-0.026312</td>\n",
       "      <td>-0.049344</td>\n",
       "      <td>0.063810</td>\n",
       "      <td>-0.078137</td>\n",
       "      <td>0.026422</td>\n",
       "      <td>-0.010718</td>\n",
       "      <td>-0.001498</td>\n",
       "      <td>0.539156</td>\n",
       "      <td>0.468147</td>\n",
       "      <td>1.000000</td>\n",
       "      <td>-0.113684</td>\n",
       "      <td>0.027377</td>\n",
       "    </tr>\n",
       "    <tr>\n",
       "      <th>avg_price_per_room</th>\n",
       "      <td>0.296886</td>\n",
       "      <td>0.337728</td>\n",
       "      <td>-0.004525</td>\n",
       "      <td>0.022753</td>\n",
       "      <td>0.061304</td>\n",
       "      <td>-0.062596</td>\n",
       "      <td>0.178605</td>\n",
       "      <td>0.054423</td>\n",
       "      <td>0.017898</td>\n",
       "      <td>-0.174900</td>\n",
       "      <td>-0.063340</td>\n",
       "      <td>-0.113684</td>\n",
       "      <td>1.000000</td>\n",
       "      <td>0.184381</td>\n",
       "    </tr>\n",
       "    <tr>\n",
       "      <th>no_of_special_requests</th>\n",
       "      <td>0.189401</td>\n",
       "      <td>0.124486</td>\n",
       "      <td>0.060593</td>\n",
       "      <td>0.045994</td>\n",
       "      <td>0.087922</td>\n",
       "      <td>-0.101645</td>\n",
       "      <td>0.053205</td>\n",
       "      <td>0.110552</td>\n",
       "      <td>0.018352</td>\n",
       "      <td>-0.011820</td>\n",
       "      <td>-0.003317</td>\n",
       "      <td>0.027377</td>\n",
       "      <td>0.184381</td>\n",
       "      <td>1.000000</td>\n",
       "    </tr>\n",
       "  </tbody>\n",
       "</table>\n",
       "</div>"
      ],
      "text/plain": [
       "                                      no_of_adults  no_of_children  \\\n",
       "no_of_adults                              1.000000       -0.019787   \n",
       "no_of_children                           -0.019787        1.000000   \n",
       "no_of_weekend_nights                      0.103316        0.029478   \n",
       "no_of_week_nights                         0.105622        0.024398   \n",
       "required_car_parking_space                0.011429        0.034244   \n",
       "lead_time                                 0.097287       -0.047091   \n",
       "arrival_year                              0.076719        0.045983   \n",
       "arrival_month                             0.021841       -0.003076   \n",
       "arrival_date                              0.026338        0.025482   \n",
       "repeated_guest                           -0.192277       -0.036348   \n",
       "no_of_previous_cancellations             -0.047426       -0.016390   \n",
       "no_of_previous_bookings_not_canceled     -0.119166       -0.021189   \n",
       "avg_price_per_room                        0.296886        0.337728   \n",
       "no_of_special_requests                    0.189401        0.124486   \n",
       "\n",
       "                                      no_of_weekend_nights  no_of_week_nights  \\\n",
       "no_of_adults                                      0.103316           0.105622   \n",
       "no_of_children                                    0.029478           0.024398   \n",
       "no_of_weekend_nights                              1.000000           0.179577   \n",
       "no_of_week_nights                                 0.179577           1.000000   \n",
       "required_car_parking_space                       -0.031111          -0.048784   \n",
       "lead_time                                         0.046595           0.149650   \n",
       "arrival_year                                      0.055357           0.032672   \n",
       "arrival_month                                    -0.009894           0.037376   \n",
       "arrival_date                                      0.027304          -0.009305   \n",
       "repeated_guest                                   -0.067107          -0.099764   \n",
       "no_of_previous_cancellations                     -0.020690          -0.030080   \n",
       "no_of_previous_bookings_not_canceled             -0.026312          -0.049344   \n",
       "avg_price_per_room                               -0.004525           0.022753   \n",
       "no_of_special_requests                            0.060593           0.045994   \n",
       "\n",
       "                                      required_car_parking_space  lead_time  \\\n",
       "no_of_adults                                            0.011429   0.097287   \n",
       "no_of_children                                          0.034244  -0.047091   \n",
       "no_of_weekend_nights                                   -0.031111   0.046595   \n",
       "no_of_week_nights                                      -0.048784   0.149650   \n",
       "required_car_parking_space                              1.000000  -0.066445   \n",
       "lead_time                                              -0.066445   1.000000   \n",
       "arrival_year                                            0.015684   0.143439   \n",
       "arrival_month                                          -0.015505   0.136814   \n",
       "arrival_date                                           -0.000037   0.006479   \n",
       "repeated_guest                                          0.110909  -0.135984   \n",
       "no_of_previous_cancellations                            0.027106  -0.045723   \n",
       "no_of_previous_bookings_not_canceled                    0.063810  -0.078137   \n",
       "avg_price_per_room                                      0.061304  -0.062596   \n",
       "no_of_special_requests                                  0.087922  -0.101645   \n",
       "\n",
       "                                      arrival_year  arrival_month  \\\n",
       "no_of_adults                              0.076719       0.021841   \n",
       "no_of_children                            0.045983      -0.003076   \n",
       "no_of_weekend_nights                      0.055357      -0.009894   \n",
       "no_of_week_nights                         0.032672       0.037376   \n",
       "required_car_parking_space                0.015684      -0.015505   \n",
       "lead_time                                 0.143439       0.136814   \n",
       "arrival_year                              1.000000      -0.339689   \n",
       "arrival_month                            -0.339689       1.000000   \n",
       "arrival_date                              0.018849      -0.042780   \n",
       "repeated_guest                           -0.018175       0.000341   \n",
       "no_of_previous_cancellations              0.003919      -0.038615   \n",
       "no_of_previous_bookings_not_canceled      0.026422      -0.010718   \n",
       "avg_price_per_room                        0.178605       0.054423   \n",
       "no_of_special_requests                    0.053205       0.110552   \n",
       "\n",
       "                                      arrival_date  repeated_guest  \\\n",
       "no_of_adults                              0.026338       -0.192277   \n",
       "no_of_children                            0.025482       -0.036348   \n",
       "no_of_weekend_nights                      0.027304       -0.067107   \n",
       "no_of_week_nights                        -0.009305       -0.099764   \n",
       "required_car_parking_space               -0.000037        0.110909   \n",
       "lead_time                                 0.006479       -0.135984   \n",
       "arrival_year                              0.018849       -0.018175   \n",
       "arrival_month                            -0.042780        0.000341   \n",
       "arrival_date                              1.000000       -0.015949   \n",
       "repeated_guest                           -0.015949        1.000000   \n",
       "no_of_previous_cancellations             -0.012542        0.390810   \n",
       "no_of_previous_bookings_not_canceled     -0.001498        0.539156   \n",
       "avg_price_per_room                        0.017898       -0.174900   \n",
       "no_of_special_requests                    0.018352       -0.011820   \n",
       "\n",
       "                                      no_of_previous_cancellations  \\\n",
       "no_of_adults                                             -0.047426   \n",
       "no_of_children                                           -0.016390   \n",
       "no_of_weekend_nights                                     -0.020690   \n",
       "no_of_week_nights                                        -0.030080   \n",
       "required_car_parking_space                                0.027106   \n",
       "lead_time                                                -0.045723   \n",
       "arrival_year                                              0.003919   \n",
       "arrival_month                                            -0.038615   \n",
       "arrival_date                                             -0.012542   \n",
       "repeated_guest                                            0.390810   \n",
       "no_of_previous_cancellations                              1.000000   \n",
       "no_of_previous_bookings_not_canceled                      0.468147   \n",
       "avg_price_per_room                                       -0.063340   \n",
       "no_of_special_requests                                   -0.003317   \n",
       "\n",
       "                                      no_of_previous_bookings_not_canceled  \\\n",
       "no_of_adults                                                     -0.119166   \n",
       "no_of_children                                                   -0.021189   \n",
       "no_of_weekend_nights                                             -0.026312   \n",
       "no_of_week_nights                                                -0.049344   \n",
       "required_car_parking_space                                        0.063810   \n",
       "lead_time                                                        -0.078137   \n",
       "arrival_year                                                      0.026422   \n",
       "arrival_month                                                    -0.010718   \n",
       "arrival_date                                                     -0.001498   \n",
       "repeated_guest                                                    0.539156   \n",
       "no_of_previous_cancellations                                      0.468147   \n",
       "no_of_previous_bookings_not_canceled                              1.000000   \n",
       "avg_price_per_room                                               -0.113684   \n",
       "no_of_special_requests                                            0.027377   \n",
       "\n",
       "                                      avg_price_per_room  \\\n",
       "no_of_adults                                    0.296886   \n",
       "no_of_children                                  0.337728   \n",
       "no_of_weekend_nights                           -0.004525   \n",
       "no_of_week_nights                               0.022753   \n",
       "required_car_parking_space                      0.061304   \n",
       "lead_time                                      -0.062596   \n",
       "arrival_year                                    0.178605   \n",
       "arrival_month                                   0.054423   \n",
       "arrival_date                                    0.017898   \n",
       "repeated_guest                                 -0.174900   \n",
       "no_of_previous_cancellations                   -0.063340   \n",
       "no_of_previous_bookings_not_canceled           -0.113684   \n",
       "avg_price_per_room                              1.000000   \n",
       "no_of_special_requests                          0.184381   \n",
       "\n",
       "                                      no_of_special_requests  \n",
       "no_of_adults                                        0.189401  \n",
       "no_of_children                                      0.124486  \n",
       "no_of_weekend_nights                                0.060593  \n",
       "no_of_week_nights                                   0.045994  \n",
       "required_car_parking_space                          0.087922  \n",
       "lead_time                                          -0.101645  \n",
       "arrival_year                                        0.053205  \n",
       "arrival_month                                       0.110552  \n",
       "arrival_date                                        0.018352  \n",
       "repeated_guest                                     -0.011820  \n",
       "no_of_previous_cancellations                       -0.003317  \n",
       "no_of_previous_bookings_not_canceled                0.027377  \n",
       "avg_price_per_room                                  0.184381  \n",
       "no_of_special_requests                              1.000000  "
      ]
     },
     "execution_count": 10,
     "metadata": {},
     "output_type": "execute_result"
    }
   ],
   "source": [
    "data1.corr()"
   ]
  },
  {
   "cell_type": "code",
   "execution_count": 11,
   "metadata": {},
   "outputs": [],
   "source": [
    "x=data1\n",
    "y=data['customer_type']"
   ]
  },
  {
   "cell_type": "code",
   "execution_count": 12,
   "metadata": {},
   "outputs": [],
   "source": [
    "x_train,x_test,y_train,y_test=train_test_split(x,y,test_size=0.2,random_state=0)"
   ]
  },
  {
   "cell_type": "code",
   "execution_count": 13,
   "metadata": {},
   "outputs": [],
   "source": [
    "s=StandardScaler()\n",
    "x_train=s.fit_transform(x_train)\n",
    "x_test=s.transform(x_test)"
   ]
  },
  {
   "cell_type": "code",
   "execution_count": 14,
   "metadata": {},
   "outputs": [],
   "source": [
    "modelA=svm.SVC()\n",
    "modelA.fit(x_train,y_train)\n",
    "pr=modelA.predict(x_test)"
   ]
  },
  {
   "cell_type": "code",
   "execution_count": 15,
   "metadata": {},
   "outputs": [
    {
     "name": "stdout",
     "output_type": "stream",
     "text": [
      "                 precision    recall  f1-score   support\n",
      "\n",
      "       Contract       0.73      0.66      0.69      2091\n",
      "          Group       1.00      0.04      0.07        28\n",
      "       Official       0.79      0.40      0.53       386\n",
      "      Transient       0.83      0.90      0.86      4670\n",
      "Transient-Party       0.70      0.80      0.75        80\n",
      "\n",
      "       accuracy                           0.80      7255\n",
      "      macro avg       0.81      0.56      0.58      7255\n",
      "   weighted avg       0.80      0.80      0.79      7255\n",
      "\n"
     ]
    }
   ],
   "source": [
    "print(classification_report(y_test,pr))"
   ]
  },
  {
   "cell_type": "code",
   "execution_count": 16,
   "metadata": {},
   "outputs": [
    {
     "data": {
      "text/plain": [
       "array([[1375,    0,   17,  698,    1],\n",
       "       [   3,    1,    5,   19,    0],\n",
       "       [  83,    0,  154,  149,    0],\n",
       "       [ 425,    0,   18, 4201,   26],\n",
       "       [   2,    0,    2,   12,   64]])"
      ]
     },
     "execution_count": 16,
     "metadata": {},
     "output_type": "execute_result"
    }
   ],
   "source": [
    "confusion_matrix(y_test,pr)"
   ]
  },
  {
   "cell_type": "code",
   "execution_count": 17,
   "metadata": {},
   "outputs": [
    {
     "name": "stdout",
     "output_type": "stream",
     "text": [
      "0.7987594762232942\n"
     ]
    }
   ],
   "source": [
    "print(accuracy_score(y_test,pr))"
   ]
  },
  {
   "cell_type": "markdown",
   "metadata": {},
   "source": [
    "Secondly using logistic regression to train the model"
   ]
  },
  {
   "cell_type": "code",
   "execution_count": 18,
   "metadata": {},
   "outputs": [
    {
     "name": "stderr",
     "output_type": "stream",
     "text": [
      "Intel(R) Extension for Scikit-learn* enabled (https://github.com/intel/scikit-learn-intelex)\n"
     ]
    },
    {
     "name": "stdout",
     "output_type": "stream",
     "text": [
      "0.7987594762232942\n"
     ]
    },
    {
     "name": "stderr",
     "output_type": "stream",
     "text": [
      "/opt/intel/inteloneapi/intelpython/latest/lib/python3.9/site-packages/daal4py/sklearn/linear_model/logistic_path.py:548: ConvergenceWarning: lbfgs failed to converge (status=1):\n",
      "STOP: TOTAL NO. of ITERATIONS REACHED LIMIT.\n",
      "\n",
      "Increase the number of iterations (max_iter) or scale the data as shown in:\n",
      "    https://scikit-learn.org/stable/modules/preprocessing.html\n",
      "Please also refer to the documentation for alternative solver options:\n",
      "    https://scikit-learn.org/stable/modules/linear_model.html#logistic-regression\n",
      "  n_iter_i = _check_optimize_result(\n"
     ]
    }
   ],
   "source": [
    "from sklearnex.linear_model import LogisticRegression\n",
    "from sklearnex import patch_sklearn\n",
    "patch_sklearn()\n",
    "\n",
    "modelB = LogisticRegression(random_state=2)\n",
    "# Calling the Logistic regression, this is optimized. \n",
    "\n",
    "modelB.fit(x_train,y_train)\n",
    "# Training happens!\n",
    "\n",
    "predicted_values = modelB.predict(x_test)\n",
    "# Test, Predict. \n",
    "\n",
    "print(accuracy_score(y_test,pr))\n",
    "\n"
   ]
  },
  {
   "cell_type": "markdown",
   "metadata": {},
   "source": [
    "Thirdly using Naive bayes multinomiaNB"
   ]
  },
  {
   "cell_type": "code",
   "execution_count": 19,
   "metadata": {},
   "outputs": [
    {
     "name": "stdout",
     "output_type": "stream",
     "text": [
      "Accuracy: 0.39324603721571333\n"
     ]
    }
   ],
   "source": [
    "from sklearn.naive_bayes import MultinomialNB\n",
    "from sklearn.feature_extraction.text import CountVectorizer\n",
    "from sklearn.model_selection import train_test_split\n",
    "from sklearn.metrics import accuracy_score\n",
    "\n",
    "# Split the data\n",
    "x_train,x_test,y_train,y_test=train_test_split(x,y,test_size=0.2,random_state=0)\n",
    "\n",
    "# Vectorize the data\n",
    "vectorizer = CountVectorizer()\n",
    "X_train = vectorizer.fit_transform(x_train)\n",
    "X_test = vectorizer.transform(x_test)\n",
    "\n",
    "# Define the model\n",
    "modelC = MultinomialNB()\n",
    "\n",
    "# Train the model\n",
    "modelC.fit(x_train, y_train)\n",
    "\n",
    "# Predict on the test set\n",
    "y_pred = modelC.predict(x_test)\n",
    "\n",
    "# Evaluate the model\n",
    "accuracy = accuracy_score(y_test, y_pred)\n",
    "print(\"Accuracy:\", accuracy)"
   ]
  },
  {
   "cell_type": "markdown",
   "metadata": {},
   "source": [
    "Fourthly using KNeighborsClassifier"
   ]
  },
  {
   "cell_type": "code",
   "execution_count": 20,
   "metadata": {},
   "outputs": [
    {
     "name": "stderr",
     "output_type": "stream",
     "text": [
      "Intel(R) Extension for Scikit-learn* enabled (https://github.com/intel/scikit-learn-intelex)\n"
     ]
    },
    {
     "name": "stdout",
     "output_type": "stream",
     "text": [
      "0.7987594762232942\n"
     ]
    }
   ],
   "source": [
    "\n",
    "from sklearnex import patch_sklearn\n",
    "patch_sklearn()\n",
    "\n",
    "from sklearn.neighbors import KNeighborsClassifier\n",
    "modelD = KNeighborsClassifier()\n",
    "modelD.fit(x_train, y_train)\n",
    "\n",
    "predicted_values = modelD.predict(x_test)\n",
    "# Test, Predict. \n",
    "\n",
    "print(accuracy_score(y_test,pr))"
   ]
  },
  {
   "cell_type": "markdown",
   "metadata": {},
   "source": [
    "Fifthly using GradientBoostingClassifier"
   ]
  },
  {
   "cell_type": "code",
   "execution_count": 21,
   "metadata": {},
   "outputs": [
    {
     "name": "stderr",
     "output_type": "stream",
     "text": [
      "Intel(R) Extension for Scikit-learn* enabled (https://github.com/intel/scikit-learn-intelex)\n"
     ]
    },
    {
     "name": "stdout",
     "output_type": "stream",
     "text": [
      "0.7987594762232942\n"
     ]
    }
   ],
   "source": [
    "from sklearnex import patch_sklearn\n",
    "patch_sklearn()\n",
    "from sklearn.ensemble import GradientBoostingClassifier\n",
    "modelE = GradientBoostingClassifier()\n",
    "modelE.fit(x_train, y_train)\n",
    "\n",
    "predicted_values = modelE.predict(x_test)\n",
    "# Test, Predict. \n",
    "\n",
    "print(accuracy_score(y_test,pr))"
   ]
  },
  {
   "cell_type": "markdown",
   "metadata": {},
   "source": [
    "Sixthly using Naive bayes GaussianNB"
   ]
  },
  {
   "cell_type": "code",
   "execution_count": 22,
   "metadata": {},
   "outputs": [
    {
     "name": "stdout",
     "output_type": "stream",
     "text": [
      "Accuracy: 0.5765678842177808\n"
     ]
    },
    {
     "name": "stderr",
     "output_type": "stream",
     "text": [
      "Intel(R) Extension for Scikit-learn* enabled (https://github.com/intel/scikit-learn-intelex)\n"
     ]
    }
   ],
   "source": [
    "from sklearnex import patch_sklearn\n",
    "patch_sklearn()\n",
    "from sklearn.naive_bayes import GaussianNB\n",
    "from sklearn.feature_extraction.text import CountVectorizer\n",
    "from sklearn.model_selection import train_test_split\n",
    "from sklearn.metrics import accuracy_score\n",
    "\n",
    "# Split the data\n",
    "x_train,x_test,y_train,y_test=train_test_split(x,y,test_size=0.2,random_state=0)\n",
    "\n",
    "# Vectorize the data\n",
    "vectorizer = CountVectorizer()\n",
    "X_train = vectorizer.fit_transform(x_train)\n",
    "X_test = vectorizer.transform(x_test)\n",
    "\n",
    "# Define the model\n",
    "modelF = GaussianNB()\n",
    "\n",
    "# Train the model\n",
    "modelF.fit(x_train, y_train)\n",
    "\n",
    "# Predict on the test set\n",
    "y_pred = modelF.predict(x_test)\n",
    "\n",
    "# Evaluate the model\n",
    "accuracy = accuracy_score(y_test, y_pred)\n",
    "print(\"Accuracy:\", accuracy)"
   ]
  },
  {
   "cell_type": "markdown",
   "metadata": {},
   "source": [
    "Seventhly using Decision Tree Classifier"
   ]
  },
  {
   "cell_type": "code",
   "execution_count": 23,
   "metadata": {},
   "outputs": [
    {
     "name": "stdout",
     "output_type": "stream",
     "text": [
      "0.7987594762232942\n"
     ]
    }
   ],
   "source": [
    "from sklearn.tree import DecisionTreeClassifier\n",
    "modelG = DecisionTreeClassifier()\n",
    "modelG.fit(x_train, y_train)\n",
    "\n",
    "predicted_values = modelG.predict(x_test)\n",
    "# Test, Predict. \n",
    "\n",
    "print(accuracy_score(y_test,pr))"
   ]
  },
  {
   "cell_type": "markdown",
   "metadata": {},
   "source": [
    "Comparing all the trained model to compare the efficiency"
   ]
  },
  {
   "cell_type": "code",
   "execution_count": 25,
   "metadata": {},
   "outputs": [
    {
     "data": {
      "image/png": "[encoded data removed]",
      "text/plain": [
       "<Figure size 640x480 with 1 Axes>"
      ]
     },
     "metadata": {},
     "output_type": "display_data"
    }
   ],
   "source": [
    "import matplotlib.pyplot as plt\n",
    "\n",
    "models = ['modelA', 'modelB', 'modelC', 'modelD', 'modelE', 'modelF', 'modelG']\n",
    "accuracy = [0.798, 0.798, 0.393, 0.798, 0.798, 0.576, 0.798]\n",
    "\n",
    "plt.bar(models, accuracy, color ='maroon', width = 0.4)\n",
    "\n",
    "plt.xlabel(\"Machine Learning Models\")\n",
    "plt.ylabel(\"Accuracy\")\n",
    "plt.title(\"Comparison of Machine Learning Models\")\n",
    "\n",
    "plt.show()\n"
   ]
  },
  {
   "cell_type": "markdown",
   "metadata": {
    "tags": []
   },
   "source": [
    "Here,\n",
    "\n",
    "modelA = svm\n",
    "--\n",
    "modelB = LogisticRegression\n",
    "--\n",
    "modelC = MultinomialNB\n",
    "--\n",
    "modelD = KNeighborsClassifier\n",
    "--\n",
    "modelE = GradientBoostingClassifier\n",
    "--\n",
    "modelF = GaussianNB\n",
    "--\n",
    "modelG = DecisionTreeClassifier\n",
    "--"
   ]
  },
  {
   "cell_type": "markdown",
   "metadata": {},
   "source": [
    "Cross validating the accuracy of the models trained"
   ]
  },
  {
   "cell_type": "code",
   "execution_count": 28,
   "metadata": {},
   "outputs": [
    {
     "name": "stderr",
     "output_type": "stream",
     "text": [
      "/opt/intel/inteloneapi/intelpython/latest/lib/python3.9/site-packages/daal4py/sklearn/linear_model/logistic_path.py:548: ConvergenceWarning: lbfgs failed to converge (status=1):\n",
      "STOP: TOTAL NO. of ITERATIONS REACHED LIMIT.\n",
      "\n",
      "Increase the number of iterations (max_iter) or scale the data as shown in:\n",
      "    https://scikit-learn.org/stable/modules/preprocessing.html\n",
      "Please also refer to the documentation for alternative solver options:\n",
      "    https://scikit-learn.org/stable/modules/linear_model.html#logistic-regression\n",
      "  n_iter_i = _check_optimize_result(\n",
      "/opt/intel/inteloneapi/intelpython/latest/lib/python3.9/site-packages/daal4py/sklearn/linear_model/logistic_path.py:548: ConvergenceWarning: lbfgs failed to converge (status=1):\n",
      "STOP: TOTAL NO. of ITERATIONS REACHED LIMIT.\n",
      "\n",
      "Increase the number of iterations (max_iter) or scale the data as shown in:\n",
      "    https://scikit-learn.org/stable/modules/preprocessing.html\n",
      "Please also refer to the documentation for alternative solver options:\n",
      "    https://scikit-learn.org/stable/modules/linear_model.html#logistic-regression\n",
      "  n_iter_i = _check_optimize_result(\n"
     ]
    },
    {
     "name": "stdout",
     "output_type": "stream",
     "text": [
      "Model 1: Accuracy = 0.6456 +/- 0.0057\n",
      "Model 2: Accuracy = 0.6735 +/- 0.0108\n",
      "Model 3: Accuracy = 0.4006 +/- 0.0082\n",
      "Model 4: Accuracy = 0.8058 +/- 0.0140\n",
      "Model 5: Accuracy = 0.8400 +/- 0.0174\n",
      "Model 6: Accuracy = 0.5673 +/- 0.0280\n",
      "Model 7: Accuracy = 0.8630 +/- 0.0157\n"
     ]
    }
   ],
   "source": [
    "from sklearn.model_selection import cross_val_score\n",
    "\n",
    "# models is a list of different models that you want to compare\n",
    "# X and y are the input features and target variable, respectively\n",
    "# cv is the number of folds for cross-validation\n",
    "models = [modelA, modelB, modelC, modelD, modelE, modelF, modelG]\n",
    "X=data1\n",
    "y=data['customer_type']\n",
    "cv = 2\n",
    "\n",
    "# Evaluate each model using cross-validation and accuracy metric\n",
    "accuracy_scores = []\n",
    "for model in models:\n",
    "    accuracy_scores.append(cross_val_score(model, X, y, cv=cv, scoring='accuracy'))\n",
    "\n",
    "# Print the mean and standard deviation of accuracy for each model\n",
    "for i in range(len(models)):\n",
    "    print(f\"Model {i+1}: Accuracy = {accuracy_scores[i].mean():.4f} +/- {accuracy_scores[i].std():.4f}\")\n"
   ]
  }
 ],
 "metadata": {
  "kernelspec": {
   "display_name": "Python 3 (Intel® oneAPI 2023.0)",
   "language": "python",
   "name": "c009-intel_distribution_of_python_3_oneapi-beta05-python"
  },
  "language_info": {
   "codemirror_mode": {
    "name": "ipython",
    "version": 3
   },
   "file_extension": ".py",
   "mimetype": "text/x-python",
   "name": "python",
   "nbconvert_exporter": "python",
   "pygments_lexer": "ipython3",
   "version": "3.9.15"
  }
 },
 "nbformat": 4,
 "nbformat_minor": 4
}
